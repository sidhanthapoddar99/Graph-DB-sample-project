{
 "cells": [
  {
   "cell_type": "code",
   "execution_count": 4,
   "metadata": {},
   "outputs": [],
   "source": [
    "import numpy as np\n",
    "import random\n",
    "import string\n",
    "import pandas as pd"
   ]
  },
  {
   "cell_type": "code",
   "execution_count": 5,
   "metadata": {},
   "outputs": [
    {
     "output_type": "execute_result",
     "data": {
      "text/plain": "'0123456789abcdefghijklmnopqrstuvwxyzABCDEFGHIJKLMNOPQRSTUVWXYZ0123456789'"
     },
     "metadata": {},
     "execution_count": 5
    }
   ],
   "source": [
    "string.digits+string.ascii_lowercase+string.ascii_uppercase+string.digits"
   ]
  },
  {
   "cell_type": "code",
   "execution_count": 6,
   "metadata": {
    "tags": []
   },
   "outputs": [
    {
     "output_type": "stream",
     "name": "stdout",
     "text": "Random String is  Sl4QrJ3J9o\nRandom String is  HZbLS2rz\nRandom String is \n"
    }
   ],
   "source": [
    "\n",
    "\n",
    "def randomString(stringLength=10):\n",
    "    letters = string.digits+string.ascii_lowercase+string.ascii_uppercase+string.digits\n",
    "    return ''.join(random.choice(letters) for i in range(stringLength))\n",
    "\n",
    "print(\"Random String is \", randomString())\n",
    "print(\"Random String is \", randomString(8))\n",
    "print(\"Random String is \", )"
   ]
  },
  {
   "cell_type": "code",
   "execution_count": 7,
   "metadata": {},
   "outputs": [],
   "source": [
    "nv=50\n",
    "ng=25"
   ]
  },
  {
   "cell_type": "code",
   "execution_count": 15,
   "metadata": {},
   "outputs": [],
   "source": [
    "ids =[[randomString(12) for i in range(nv)] for j in range(ng)]"
   ]
  },
  {
   "cell_type": "code",
   "execution_count": 18,
   "metadata": {},
   "outputs": [],
   "source": [
    "def getConnections(ids):\n",
    "    l=[]\n",
    "    for i in range(ng):\n",
    "        for j in range(nv*3):\n",
    "            ind1=int(random.randint(0,nv-1))\n",
    "            ind2=int(random.randint(0,nv-1))\n",
    "            if ind1==ind2:\n",
    "                ind2+=1\n",
    "                ind2%=10\n",
    "            l+=[[ids[i][ind1],ids[i][ind2]]]\n",
    "    return l            \n",
    "def getCRConnections(ids):\n",
    "    l=[]\n",
    "    for i in range(ng):\n",
    "        for j in range(nv*2):\n",
    "            ind1=int(random.randint(0,nv-1))\n",
    "            ind2=int(random.randint(0,nv-1))\n",
    "            ind3=int(random.randint(0,ng-1))\n",
    "            ind4=int(random.randint(0,ng-1))\n",
    "            if ind1==ind2:\n",
    "                ind2+=1\n",
    "                ind2%=nv\n",
    "            if ind3==ind4:\n",
    "                ind4+=1\n",
    "                ind4%=ng    \n",
    "            l+=[[ids[ind3][ind1],ids[ind4][ind2]]]\n",
    "    return l            \n",
    "\n"
   ]
  },
  {
   "cell_type": "code",
   "execution_count": 19,
   "metadata": {},
   "outputs": [],
   "source": [
    "conn=getConnections(ids)+getCRConnections(ids)"
   ]
  },
  {
   "cell_type": "code",
   "execution_count": 20,
   "metadata": {},
   "outputs": [],
   "source": [
    "name=pd.read_csv(\"./Indian-Female-Names.csv\")"
   ]
  },
  {
   "cell_type": "code",
   "execution_count": 25,
   "metadata": {},
   "outputs": [],
   "source": [
    "id2=np.array(ids).reshape(nv*ng)"
   ]
  },
  {
   "cell_type": "code",
   "execution_count": 26,
   "metadata": {},
   "outputs": [],
   "source": [
    "idA={'id':id2,\n",
    "    'name':name['name'][:nv*ng],\n",
    "    'age' : [random.randint(7,100) for i in range(nv*ng)],\n",
    "    'region':np.array([['region'+str(i) for j in range(nv)]for i in range(ng)]).reshape(nv*ng)}"
   ]
  },
  {
   "cell_type": "code",
   "execution_count": 27,
   "metadata": {},
   "outputs": [
    {
     "output_type": "execute_result",
     "data": {
      "text/plain": "                id                 name  age    region\n0     Rl9492BuQNat              shivani    8   region0\n1     zo8D8V3NKu2J                 isha    9   region0\n2     K8g4eyY4o2y4      smt shyani devi   44   region0\n3     UqmWO6s2caRu                divya   92   region0\n4     3A7l8unKG83O                mansi   81   region0\n...            ...                  ...  ...       ...\n1245  y41XXLbMg3bH                 neha   82  region24\n1246  ks4g1OYdh5B1     priyanka - pinki    8  region24\n1247  0u82z7GNzPXQ          kumari ritu   11  region24\n1248  SN0mrdqr7E12              manisha   28  region24\n1249  603u1KHpTbg5  krishna w/o hiralal   69  region24\n\n[1250 rows x 4 columns]",
      "text/html": "<div>\n<style scoped>\n    .dataframe tbody tr th:only-of-type {\n        vertical-align: middle;\n    }\n\n    .dataframe tbody tr th {\n        vertical-align: top;\n    }\n\n    .dataframe thead th {\n        text-align: right;\n    }\n</style>\n<table border=\"1\" class=\"dataframe\">\n  <thead>\n    <tr style=\"text-align: right;\">\n      <th></th>\n      <th>id</th>\n      <th>name</th>\n      <th>age</th>\n      <th>region</th>\n    </tr>\n  </thead>\n  <tbody>\n    <tr>\n      <th>0</th>\n      <td>Rl9492BuQNat</td>\n      <td>shivani</td>\n      <td>8</td>\n      <td>region0</td>\n    </tr>\n    <tr>\n      <th>1</th>\n      <td>zo8D8V3NKu2J</td>\n      <td>isha</td>\n      <td>9</td>\n      <td>region0</td>\n    </tr>\n    <tr>\n      <th>2</th>\n      <td>K8g4eyY4o2y4</td>\n      <td>smt shyani devi</td>\n      <td>44</td>\n      <td>region0</td>\n    </tr>\n    <tr>\n      <th>3</th>\n      <td>UqmWO6s2caRu</td>\n      <td>divya</td>\n      <td>92</td>\n      <td>region0</td>\n    </tr>\n    <tr>\n      <th>4</th>\n      <td>3A7l8unKG83O</td>\n      <td>mansi</td>\n      <td>81</td>\n      <td>region0</td>\n    </tr>\n    <tr>\n      <th>...</th>\n      <td>...</td>\n      <td>...</td>\n      <td>...</td>\n      <td>...</td>\n    </tr>\n    <tr>\n      <th>1245</th>\n      <td>y41XXLbMg3bH</td>\n      <td>neha</td>\n      <td>82</td>\n      <td>region24</td>\n    </tr>\n    <tr>\n      <th>1246</th>\n      <td>ks4g1OYdh5B1</td>\n      <td>priyanka - pinki</td>\n      <td>8</td>\n      <td>region24</td>\n    </tr>\n    <tr>\n      <th>1247</th>\n      <td>0u82z7GNzPXQ</td>\n      <td>kumari ritu</td>\n      <td>11</td>\n      <td>region24</td>\n    </tr>\n    <tr>\n      <th>1248</th>\n      <td>SN0mrdqr7E12</td>\n      <td>manisha</td>\n      <td>28</td>\n      <td>region24</td>\n    </tr>\n    <tr>\n      <th>1249</th>\n      <td>603u1KHpTbg5</td>\n      <td>krishna w/o hiralal</td>\n      <td>69</td>\n      <td>region24</td>\n    </tr>\n  </tbody>\n</table>\n<p>1250 rows × 4 columns</p>\n</div>"
     },
     "metadata": {},
     "execution_count": 27
    }
   ],
   "source": [
    "pd.DataFrame(idA).to_csv('id.csv')"
   ]
  },
  {
   "cell_type": "code",
   "execution_count": null,
   "metadata": {},
   "outputs": [],
   "source": [
    "pd.DataFrame(conn).to_csv('conn.csv')"
   ]
  },
  {
   "cell_type": "code",
   "execution_count": null,
   "metadata": {},
   "outputs": [],
   "source": [
    "aa"
   ]
  },
  {
   "cell_type": "code",
   "execution_count": 29,
   "metadata": {},
   "outputs": [],
   "source": [
    "pd.DataFrame(np.array(ids).reshape(100)).to_csv('ID.csv')"
   ]
  },
  {
   "cell_type": "code",
   "execution_count": 30,
   "metadata": {},
   "outputs": [],
   "source": [
    "pd.DataFrame(getConnections(ids)+getCRConnections(ids)).to_csv('Conn.csv')"
   ]
  },
  {
   "cell_type": "code",
   "execution_count": null,
   "metadata": {},
   "outputs": [],
   "source": []
  }
 ],
 "metadata": {
  "language_info": {
   "codemirror_mode": {
    "name": "ipython",
    "version": 3
   },
   "file_extension": ".py",
   "mimetype": "text/x-python",
   "name": "python",
   "nbconvert_exporter": "python",
   "pygments_lexer": "ipython3",
   "version": "3.7.6-final"
  },
  "orig_nbformat": 2,
  "kernelspec": {
   "name": "python3",
   "display_name": "Python 3"
  }
 },
 "nbformat": 4,
 "nbformat_minor": 2
}